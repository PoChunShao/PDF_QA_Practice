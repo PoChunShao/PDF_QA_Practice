{
 "cells": [
  {
   "cell_type": "code",
   "execution_count": 9,
   "id": "b77d75f2",
   "metadata": {},
   "outputs": [
    {
     "data": {
      "text/plain": [
       "ObjectApiResponse({'name': '3f6292eb3d6f', 'cluster_name': 'docker-cluster', 'cluster_uuid': 'bscp7RCYTm6aefi0n-kUpQ', 'version': {'number': '8.18.0', 'build_flavor': 'default', 'build_type': 'docker', 'build_hash': '04e979aa50b657bebd4a0937389308de82c2bdad', 'build_date': '2025-04-10T10:09:16.444104780Z', 'build_snapshot': False, 'lucene_version': '9.12.1', 'minimum_wire_compatibility_version': '7.17.0', 'minimum_index_compatibility_version': '7.0.0'}, 'tagline': 'You Know, for Search'})"
      ]
     },
     "execution_count": 9,
     "metadata": {},
     "output_type": "execute_result"
    }
   ],
   "source": [
    "from elasticsearch import Elasticsearch, helpers\n",
    "from tqdm import tqdm\n",
    "\n",
    "client = Elasticsearch(\n",
    "    hosts=\"http://localhost:9200\"\n",
    ")\n",
    "\n",
    "client.info()"
   ]
  },
  {
   "cell_type": "code",
   "execution_count": 10,
   "id": "c874297d",
   "metadata": {},
   "outputs": [
    {
     "name": "stdout",
     "output_type": "stream",
     "text": [
      "(1921, [])\n"
     ]
    }
   ],
   "source": [
    "# 將原本postgresql的data insert至elatic中\n",
    "import psycopg2\n",
    "\n",
    "endpoint = \"localhost\"\n",
    "database = \"postgres\"\n",
    "username = \"postgres\"\n",
    "password = \"mysecretpassword\"\n",
    "port = 8080\n",
    "connection = psycopg2.connect(\n",
    "    dbname=database,\n",
    "    host=endpoint,\n",
    "    port=port,\n",
    "    user=username,\n",
    "    password=password\n",
    ")\n",
    "\n",
    "cur = connection.cursor()\n",
    "query = \"\"\"SELECT id, text_segment\n",
    "FROM public.section_content_charsplitt;\"\"\"\n",
    "# query = \"\"\"SELECT id, table_content\n",
    "# FROM public.table_markdown_v2;\"\"\"\n",
    "cur.execute(query)\n",
    "result = cur.fetchall()\n",
    "\n",
    "index_name = \"chunk-index\"\n",
    "# index_name = \"table-index\"\n",
    "docs = []\n",
    "for i in result:\n",
    "    docs.append({\"id\":i[0],\"text\":i[1]})\n",
    "\n",
    "bulk_response = helpers.bulk(client, docs, index=index_name)\n",
    "print(bulk_response)"
   ]
  },
  {
   "cell_type": "code",
   "execution_count": 17,
   "id": "a11610f6",
   "metadata": {},
   "outputs": [
    {
     "data": {
      "text/plain": [
       "{'took': 3,\n",
       " 'timed_out': False,\n",
       " '_shards': {'total': 1, 'successful': 1, 'skipped': 0, 'failed': 0},\n",
       " 'hits': {'total': {'value': 33, 'relation': 'eq'},\n",
       "  'max_score': 4.9382,\n",
       "  'hits': [{'_index': 'chunk-index',\n",
       "    '_id': 'lDuOV5YBwXn6e0uC-oQ3',\n",
       "    '_score': 4.9382,\n",
       "    '_source': {'id': '20250403171853018627',\n",
       "     'text': '。這兩場訓練不僅為參與者提供了深入的學習機會，更強化了 對 SAS 系統的瞭解與實際應用。同時，我們也撰寫了兩篇科普文章， 以清晰而易懂的方式介紹 SAS 系統的原理、應用範疇和未來趨勢，致\\n力於推動相關領域的普及和瞭解。'},\n",
       "    'highlight': {'text': ['同時，我們也撰寫了兩篇科普文章， 以清晰而易懂的方式<em>介紹</em> SAS 系統的原理、應用範疇和未來趨勢，致\\n力於推動相關領域的普及和瞭解。']}},\n",
       "   {'_index': 'chunk-index',\n",
       "    '_id': 'zTuOV5YBwXn6e0uC-oQ3',\n",
       "    '_score': 4.6952443,\n",
       "    '_source': {'id': '20250403171938189691',\n",
       "     'text': '生態環保標章(EU Ecolabel)推薦的國際安全替代資料庫清單， 以下為資料庫清單介紹：\\n1. ChemSec Marketplace (https://marketplace.chemsec.org/)\\n國際化學秘書處(The International Chemical Secretariat, ChemSec)於 2002 年在 ChemSec 建立的 ChemSec\\nMarketplace 搜集來自不同企業、製造商、供應鏈對於產品中所使用化學品的技術 報告。ChemSec Marketplace 將這些技術報告分成三類： Requests、Alternatives、 Evaluat'},\n",
       "    'highlight': {'text': ['生態環保標章(EU Ecolabel)推薦的國際安全替代資料庫清單， 以下為資料庫清單<em>介紹</em>：\\n1.']}},\n",
       "   {'_index': 'chunk-index',\n",
       "    '_id': 'rzuOV5YBwXn6e0uC-oM2',\n",
       "    '_score': 4.5174394,\n",
       "    '_source': {'id': '20250403171509791909',\n",
       "     'text': '要 工具，在未來的化學領域中發揮越來越重要的作用。統整國際上常見的綠色替代 資料庫，參考歐盟生態環保標章(EU Ecolabel)推薦的國際安全替代資料庫清單， 以下為資料庫清單介紹：\\n1. ChemSec Marketplace (https://marketplace.chemsec.org/)\\n國際化學秘書處(The International Chemical Secretariat, ChemSec)於 2002 年在 ChemSec 建立的 ChemSec\\nMarketplace 搜集來自不同企業、製造商、供應鏈對於產品中所使用化學品的技術 報告。ChemSec Marketpla'},\n",
       "    'highlight': {'text': ['統整國際上常見的綠色替代 資料庫，參考歐盟生態環保標章(EU Ecolabel)推薦的國際安全替代資料庫清單， 以下為資料庫清單<em>介紹</em>：\\n1.']}}]}}"
      ]
     },
     "execution_count": 17,
     "metadata": {},
     "output_type": "execute_result"
    }
   ],
   "source": [
    "# Elasticsearch 的查詢 DSL\n",
    "index_name = \"chunk-index\"\n",
    "search_keyword = \"教師介紹\"\n",
    "field_to_search = \"text\"\n",
    "search_body = {\n",
    "  \"query\": {\n",
    "    \"match\": {\n",
    "      field_to_search: search_keyword\n",
    "    }\n",
    "  },\n",
    "  # 可選：添加其他參數，例如指定返回數量、分頁、高亮等\n",
    "  \"size\": 3,       # 最多返回 10 筆結果\n",
    "  \"from\": 0,      # 從第 0 筆結果開始 (用於分頁)\n",
    "  \"highlight\": {  # 要求高亮顯示匹配的關鍵字\n",
    "    \"fields\": {\n",
    "      field_to_search: {}\n",
    "    }\n",
    "  }\n",
    "}\n",
    "\n",
    "response = client.search(index=index_name, body=search_body)\n",
    "response.body"
   ]
  },
  {
   "cell_type": "code",
   "execution_count": 18,
   "id": "d3b2e889",
   "metadata": {},
   "outputs": [
    {
     "name": "stdout",
     "output_type": "stream",
     "text": [
      "。這兩場訓練不僅為參與者提供了深入的學習機會，更強化了 對 SAS 系統的瞭解與實際應用。同時，我們也撰寫了兩篇科普文章， 以清晰而易懂的方式介紹 SAS 系統的原理、應用範疇和未來趨勢，致\n",
      "力於推動相關領域的普及和瞭解。\n",
      "========================================\n",
      "生態環保標章(EU Ecolabel)推薦的國際安全替代資料庫清單， 以下為資料庫清單介紹：\n",
      "1. ChemSec Marketplace (https://marketplace.chemsec.org/)\n",
      "國際化學秘書處(The International Chemical Secretariat, ChemSec)於 2002 年在 ChemSec 建立的 ChemSec\n",
      "Marketplace 搜集來自不同企業、製造商、供應鏈對於產品中所使用化學品的技術 報告。ChemSec Marketplace 將這些技術報告分成三類： Requests、Alternatives、 Evaluat\n",
      "========================================\n",
      "要 工具，在未來的化學領域中發揮越來越重要的作用。統整國際上常見的綠色替代 資料庫，參考歐盟生態環保標章(EU Ecolabel)推薦的國際安全替代資料庫清單， 以下為資料庫清單介紹：\n",
      "1. ChemSec Marketplace (https://marketplace.chemsec.org/)\n",
      "國際化學秘書處(The International Chemical Secretariat, ChemSec)於 2002 年在 ChemSec 建立的 ChemSec\n",
      "Marketplace 搜集來自不同企業、製造商、供應鏈對於產品中所使用化學品的技術 報告。ChemSec Marketpla\n",
      "========================================\n"
     ]
    }
   ],
   "source": [
    "type(response.body)\n",
    "len(response.body['hits']['hits'])\n",
    "response.body['hits']['hits']\n",
    "for item in response.body['hits']['hits']:\n",
    "    print(item['_source']['text'])\n",
    "    print('========================================')\n",
    "    "
   ]
  },
  {
   "cell_type": "code",
   "execution_count": 19,
   "id": "148453eb",
   "metadata": {},
   "outputs": [
    {
     "data": {
      "text/plain": [
       "[{'token': '替代',\n",
       "  'start_offset': 0,\n",
       "  'end_offset': 2,\n",
       "  'type': 'CN_WORD',\n",
       "  'position': 0},\n",
       " {'token': '化學品',\n",
       "  'start_offset': 2,\n",
       "  'end_offset': 5,\n",
       "  'type': 'CN_WORD',\n",
       "  'position': 1},\n",
       " {'token': '有哪些',\n",
       "  'start_offset': 5,\n",
       "  'end_offset': 8,\n",
       "  'type': 'CN_WORD',\n",
       "  'position': 2},\n",
       " {'token': '物理性質',\n",
       "  'start_offset': 8,\n",
       "  'end_offset': 12,\n",
       "  'type': 'CN_WORD',\n",
       "  'position': 3},\n",
       " {'token': '需要',\n",
       "  'start_offset': 12,\n",
       "  'end_offset': 14,\n",
       "  'type': 'CN_WORD',\n",
       "  'position': 4},\n",
       " {'token': '考慮',\n",
       "  'start_offset': 14,\n",
       "  'end_offset': 16,\n",
       "  'type': 'CN_WORD',\n",
       "  'position': 5}]"
      ]
     },
     "execution_count": 19,
     "metadata": {},
     "output_type": "execute_result"
    }
   ],
   "source": [
    "# 查看分詞效果\n",
    "text_to_analyze = \"替代化學品有哪些物理性質需要考慮\" \n",
    "# 使用 tokenizer\n",
    "analyze_body_tokenizer = {\n",
    "    \"tokenizer\": \"ik_smart\", \n",
    "    \"text\": text_to_analyze\n",
    "}\n",
    "\n",
    "response = client.indices.analyze(body=analyze_body_tokenizer)\n",
    "response.body['tokens']"
   ]
  },
  {
   "cell_type": "code",
   "execution_count": null,
   "id": "f3dd770a",
   "metadata": {},
   "outputs": [],
   "source": []
  },
  {
   "cell_type": "code",
   "execution_count": null,
   "id": "bde70b23",
   "metadata": {},
   "outputs": [],
   "source": []
  }
 ],
 "metadata": {
  "kernelspec": {
   "display_name": "rtk",
   "language": "python",
   "name": "python3"
  },
  "language_info": {
   "codemirror_mode": {
    "name": "ipython",
    "version": 3
   },
   "file_extension": ".py",
   "mimetype": "text/x-python",
   "name": "python",
   "nbconvert_exporter": "python",
   "pygments_lexer": "ipython3",
   "version": "3.11.11"
  }
 },
 "nbformat": 4,
 "nbformat_minor": 5
}
